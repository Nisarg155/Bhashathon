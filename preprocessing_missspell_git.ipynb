{
  "cells": [
    {
      "cell_type": "code",
      "execution_count": 1,
      "metadata": {
        "colab": {
          "base_uri": "https://localhost:8080/"
        },
        "id": "1a_bSCJzbqDr",
        "outputId": "4eba8155-5d31-4a7b-8649-7843b43a2877"
      },
      "outputs": [
        {
          "name": "stdout",
          "output_type": "stream",
          "text": [
            "Mounted at /content/drive\n"
          ]
        }
      ],
      "source": [
        "from google.colab import drive\n",
        "drive.mount('/content/drive')"
      ]
    },
    {
      "cell_type": "code",
      "execution_count": 6,
      "metadata": {
        "colab": {
          "base_uri": "https://localhost:8080/"
        },
        "id": "nJv_qJC5b1v5",
        "outputId": "c5032e65-6b3b-46e0-b3a2-adfb35119177"
      },
      "outputs": [
        {
          "name": "stdout",
          "output_type": "stream",
          "text": [
            "Processing complete. Check match.src and match.trg for matched lines, and diff.src and diff.trg for mismatched lines.\n"
          ]
        }
      ],
      "source": [
        "import re\n",
        "\n",
        "def get_first_word(line):\n",
        "    # Remove leading special characters\n",
        "    line = re.sub(r'^\\W+', '', line)\n",
        "    # Extract the first word\n",
        "    words = line.split()\n",
        "    return words[0] if words else ''\n",
        "\n",
        "def process_files(src_file, trg_file, match_src, match_trg, diff_src, diff_trg):\n",
        "    with open(src_file, 'r', encoding='utf-8') as src, \\\n",
        "         open(trg_file, 'r', encoding='utf-8') as trg:\n",
        "        src_lines = src.readlines()\n",
        "        trg_lines = trg.readlines()\n",
        "\n",
        "    matched_src = []\n",
        "    matched_trg = []\n",
        "    diff_src_lines = []\n",
        "    diff_trg_lines = []\n",
        "\n",
        "    for src_line, trg_line in zip(src_lines, trg_lines):\n",
        "        src_word = get_first_word(src_line)\n",
        "        trg_word = get_first_word(trg_line)\n",
        "\n",
        "        if src_word != trg_word:\n",
        "            diff_src_lines.append(src_line)\n",
        "            diff_trg_lines.append(trg_line)\n",
        "        else:\n",
        "            matched_src.append(src_line)\n",
        "            matched_trg.append(trg_line)\n",
        "\n",
        "    with open(match_src, 'w', encoding='utf-8') as ms, \\\n",
        "         open(match_trg, 'w', encoding='utf-8') as mt:\n",
        "        ms.writelines(matched_src)\n",
        "        mt.writelines(matched_trg)\n",
        "\n",
        "    with open(diff_src, 'w', encoding='utf-8') as ds, \\\n",
        "         open(diff_trg, 'w', encoding='utf-8') as dt:\n",
        "        ds.writelines(diff_src_lines)\n",
        "        dt.writelines(diff_trg_lines)\n",
        "\n",
        "# File paths\n",
        "source_file = \"/content/drive/MyDrive/github-typos.train.src\"\n",
        "target_file = \"/content/drive/MyDrive/github-typos.train.tgt\"\n",
        "match_source_file = \"/content/drive/MyDrive/match.src\"\n",
        "match_target_file = \"/content/drive/MyDrive/match.trg\"\n",
        "diff_source_file = \"/content/drive/MyDrive/diff.src\"\n",
        "diff_target_file = \"/content/drive/MyDrive/diff.trg\"\n",
        "\n",
        "process_files(source_file, target_file, match_source_file, match_target_file, diff_source_file, diff_target_file)\n",
        "print(\"Processing complete. Check match.src and match.trg for matched lines, and diff.src and diff.trg for mismatched lines.\")"
      ]
    },
    {
      "cell_type": "code",
      "execution_count": null,
      "metadata": {},
      "outputs": [],
      "source": [
        "import pandas as pd\n",
        "\n",
        "def create_mispelled_csv(src_file, trg_file, output_csv):\n",
        "    with open(src_file, 'r', encoding='utf-8') as src, \\\n",
        "         open(trg_file, 'r', encoding='utf-8') as trg:\n",
        "        # Read lines from both files\n",
        "        src_lines = src.readlines()\n",
        "        trg_lines = trg.readlines()\n",
        "    \n",
        "    # Ensure the lengths of both files match\n",
        "    if len(src_lines) != len(trg_lines):\n",
        "        print(\"Warning: Source and target files have different lengths!\")\n",
        "    \n",
        "    # Create a list of tuples with (mispelled_sentence, correct_sentence)\n",
        "    data = []\n",
        "    for src_line, trg_line in zip(src_lines, trg_lines):\n",
        "        # Strip extra spaces or newline characters\n",
        "        src_line = src_line.strip()\n",
        "        trg_line = trg_line.strip()\n",
        "        data.append((src_line, trg_line))\n",
        "    \n",
        "    # Create a DataFrame\n",
        "    df = pd.DataFrame(data, columns=[\"Mispelled_Sentence\", \"Correct_Sentence\"])\n",
        "    \n",
        "    # Save to CSV\n",
        "    df.to_csv(output_csv, index=False, encoding='utf-8')\n",
        "    print(f\"✅ CSV file '{output_csv}' has been created!\")\n",
        "\n",
        "# File paths\n",
        "src_file = \"/content/drive/MyDrive/match(3).src\"\n",
        "trg_file = \"/content/drive/MyDrive/match(3).trg\"\n",
        "output_csv = \"/content/drive/MyDrive/mispelled_sentences_git.csv\"\n",
        "\n",
        "# Call the function to generate the CSV\n",
        "create_mispelled_csv(src_file, trg_file, output_csv)\n",
        "\n"
      ]
    }
  ],
  "metadata": {
    "accelerator": "GPU",
    "colab": {
      "gpuType": "T4",
      "provenance": []
    },
    "kernelspec": {
      "display_name": "Python 3",
      "name": "python3"
    },
    "language_info": {
      "name": "python"
    }
  },
  "nbformat": 4,
  "nbformat_minor": 0
}
