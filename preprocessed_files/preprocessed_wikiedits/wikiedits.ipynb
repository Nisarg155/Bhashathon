{
  "cells": [
    {
      "cell_type": "code",
      "execution_count": null,
      "metadata": {
        "colab": {
          "base_uri": "https://localhost:8080/"
        },
        "id": "98rTozoECesY",
        "outputId": "306b3cbb-d834-47dc-9bd4-eff720356df2"
      },
      "outputs": [
        {
          "name": "stdout",
          "output_type": "stream",
          "text": [
            "Data extraction complete! CSV saved to output1.csv\n"
          ]
        }
      ],
      "source": [
        "import pandas as pd\n",
        "\n",
        "# Function to read lines from files and save them into CSV\n",
        "def extract_and_save(src_file, tgt_file, output_csv):\n",
        "    with open(src_file, 'r', encoding='utf-8') as f:\n",
        "        src_lines = [line.strip() for line in f.readlines()]\n",
        "\n",
        "    with open(tgt_file, 'r', encoding='utf-8') as f:\n",
        "        tgt_lines = [line.strip() for line in f.readlines()]\n",
        "\n",
        "    assert len(src_lines) == len(tgt_lines), \"Mismatch in line count between source and target files\"\n",
        "\n",
        "    # Create DataFrame without any preprocessing\n",
        "    df = pd.DataFrame({'src': src_lines, 'tgt': tgt_lines})\n",
        "    df.to_csv(output_csv, index=False, encoding='utf-8')\n",
        "\n",
        "    print(f\"Data extraction complete! CSV saved to {output_csv}\")\n",
        "\n",
        "# Run extraction\n",
        "extract_and_save(\"/content/sample_data/wikiedits.train.src\", \"/content/sample_data/wikiedits.train.trg\", \"output2.csv\")\n"
      ]
    }
  ],
  "metadata": {
    "accelerator": "GPU",
    "colab": {
      "gpuType": "T4",
      "provenance": []
    },
    "kernelspec": {
      "display_name": "Python 3",
      "name": "python3"
    },
    "language_info": {
      "name": "python"
    }
  },
  "nbformat": 4,
  "nbformat_minor": 0
}
