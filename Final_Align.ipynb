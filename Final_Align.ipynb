{
  "nbformat": 4,
  "nbformat_minor": 0,
  "metadata": {
    "colab": {
      "provenance": []
    },
    "kernelspec": {
      "name": "python3",
      "display_name": "Python 3"
    },
    "language_info": {
      "name": "python"
    }
  },
  "cells": [
    {
      "cell_type": "code",
      "execution_count": 1,
      "metadata": {
        "colab": {
          "base_uri": "https://localhost:8080/"
        },
        "id": "PgILTcSbN8kY",
        "outputId": "be51237e-d559-42f0-a170-e4545325686e"
      },
      "outputs": [
        {
          "output_type": "stream",
          "name": "stdout",
          "text": [
            "Requirement already satisfied: pandas in /usr/local/lib/python3.11/dist-packages (2.2.2)\n",
            "Requirement already satisfied: numpy>=1.23.2 in /usr/local/lib/python3.11/dist-packages (from pandas) (1.26.4)\n",
            "Requirement already satisfied: python-dateutil>=2.8.2 in /usr/local/lib/python3.11/dist-packages (from pandas) (2.8.2)\n",
            "Requirement already satisfied: pytz>=2020.1 in /usr/local/lib/python3.11/dist-packages (from pandas) (2025.1)\n",
            "Requirement already satisfied: tzdata>=2022.7 in /usr/local/lib/python3.11/dist-packages (from pandas) (2025.1)\n",
            "Requirement already satisfied: six>=1.5 in /usr/local/lib/python3.11/dist-packages (from python-dateutil>=2.8.2->pandas) (1.17.0)\n"
          ]
        }
      ],
      "source": [
        "pip install pandas"
      ]
    },
    {
      "cell_type": "code",
      "source": [
        "import pandas as pd\n",
        "import csv\n",
        "import re\n",
        "\n",
        "# File paths\n",
        "file_path = \"/content/sample_data/misspelled_corrections.csv\"  # Change this to your actual file\n",
        "match_file_path = \"/content/sample_data/matched.csv\"\n",
        "unmatch_src_path = \"/content/sample_data/unmatched.src\"\n",
        "unmatch_trg_path = \"/content/sample_data/unmatched.trg\"\n",
        "\n",
        "# Function to extract first alphabetic character\n",
        "def get_first_alpha(s):\n",
        "    match = re.search(r\"[a-zA-Z]\", s)\n",
        "    return match.group(0).lower() if match else None\n",
        "\n",
        "# Read the CSV file\n",
        "df = pd.read_csv(file_path)\n",
        "i=0\n",
        "\n",
        "# Open existing files in append mode\n",
        "with open(match_file_path, \"w\", newline=\"\", encoding=\"utf-8\") as match_file, \\\n",
        "     open(unmatch_src_path, \"w\", encoding=\"utf-8\") as src_file, \\\n",
        "     open(unmatch_trg_path, \"w\", encoding=\"utf-8\") as trg_file:\n",
        "\n",
        "    match_writer = csv.writer(match_file)\n",
        "\n",
        "    # While loop for processing\n",
        "    while i < 24328:\n",
        "        misspelled = str(df.loc[i, \"Misspelled Sentence\"]).strip()\n",
        "        corrected = str(df.loc[i, \"Corrected Sentence\"]).strip()\n",
        "        # Get first alphabetic character\n",
        "        first_misspelled = get_first_alpha(misspelled)\n",
        "        first_corrected = get_first_alpha(corrected)\n",
        "\n",
        "        if first_misspelled and first_corrected and first_misspelled == first_corrected:\n",
        "            # If first alphabet matches, store in match.csv\n",
        "            match_writer.writerow([misspelled, corrected])\n",
        "        else:\n",
        "            # If no match, store in unmatch files\n",
        "            src_file.write(misspelled + \"\\n\")  # Unmatched corrected\n",
        "            trg_file.write(corrected + \"\\n\")  # Unmatched misspelled\n",
        "        i+=1\n",
        "\n",
        "print(\"Data successfully appended!\")\n"
      ],
      "metadata": {
        "colab": {
          "base_uri": "https://localhost:8080/"
        },
        "id": "zSZh6KveSOiz",
        "outputId": "01df4b3e-3896-46a3-80c6-1b256142c9be"
      },
      "execution_count": 2,
      "outputs": [
        {
          "output_type": "stream",
          "name": "stdout",
          "text": [
            "Data successfully appended!\n"
          ]
        }
      ]
    },
    {
      "cell_type": "code",
      "source": [
        "i=24328\n",
        "j=i+1\n",
        "\n",
        "# Open existing files in append mode\n",
        "with open(match_file_path, \"a\", newline=\"\", encoding=\"utf-8\") as match_file, \\\n",
        "     open(unmatch_src_path, \"a\", encoding=\"utf-8\") as src_file, \\\n",
        "     open(unmatch_trg_path, \"a\", encoding=\"utf-8\") as trg_file:\n",
        "\n",
        "    match_writer = csv.writer(match_file)\n",
        "    misspelled = str(df.loc[i, \"Misspelled Sentence\"]).strip()\n",
        "    src_file.write(misspelled + \"\\n\")\n",
        "    trg_file.write(\"no data available-written by me\\n\")\n",
        "    match_writer.writerow([misspelled, corrected])\n",
        "    # While loop for processing\n",
        "    while i < 51039:\n",
        "        misspelled = str(df.loc[j, \"Misspelled Sentence\"]).strip()\n",
        "        corrected = str(df.loc[i, \"Corrected Sentence\"]).strip()\n",
        "        # Get first alphabetic character\n",
        "        first_misspelled = get_first_alpha(misspelled)\n",
        "        first_corrected = get_first_alpha(corrected)\n",
        "\n",
        "        if first_misspelled and first_corrected and first_misspelled == first_corrected:\n",
        "            # If first alphabet matches, store in match.csv\n",
        "            match_writer.writerow([misspelled, corrected])\n",
        "        else:\n",
        "            # If no match, store in unmatch files\n",
        "            src_file.write(misspelled + \"\\n\")  # Unmatched corrected\n",
        "            trg_file.write(corrected + \"\\n\")  # Unmatched misspelled\n",
        "        i+=1\n",
        "        j+=1\n",
        "\n",
        "print(\"Data successfully appended!\")\n"
      ],
      "metadata": {
        "colab": {
          "base_uri": "https://localhost:8080/"
        },
        "id": "a802gVFTVamG",
        "outputId": "c0b223f9-b78b-4845-e6ad-1e0e499369a5"
      },
      "execution_count": 3,
      "outputs": [
        {
          "output_type": "stream",
          "name": "stdout",
          "text": [
            "Data successfully appended!\n"
          ]
        }
      ]
    },
    {
      "cell_type": "code",
      "source": [
        "i=51039\n",
        "j=i+1\n",
        "\n",
        "# Open existing files in append mode\n",
        "with open(match_file_path, \"a\", newline=\"\", encoding=\"utf-8\") as match_file, \\\n",
        "     open(unmatch_src_path, \"a\", encoding=\"utf-8\") as src_file, \\\n",
        "     open(unmatch_trg_path, \"a\", encoding=\"utf-8\") as trg_file:\n",
        "\n",
        "    match_writer = csv.writer(match_file)\n",
        "    misspelled = str(df.loc[j, \"Misspelled Sentence\"]).strip()\n",
        "    src_file.write(misspelled + \"\\n\")\n",
        "    trg_file.write(\"no data available-written by me\\n\")\n",
        "    j+=1\n",
        "    # While loop for processing\n",
        "    while i < 98083:\n",
        "        misspelled = str(df.loc[j, \"Misspelled Sentence\"]).strip()\n",
        "        corrected = str(df.loc[i, \"Corrected Sentence\"]).strip()\n",
        "        # Get first alphabetic character\n",
        "        first_misspelled = get_first_alpha(misspelled)\n",
        "        first_corrected = get_first_alpha(corrected)\n",
        "\n",
        "        if first_misspelled and first_corrected and first_misspelled == first_corrected:\n",
        "            # If first alphabet matches, store in match.csv\n",
        "            match_writer.writerow([misspelled, corrected])\n",
        "        else:\n",
        "            # If no match, store in unmatch files\n",
        "            src_file.write(misspelled + \"\\n\")  # Unmatched corrected\n",
        "            trg_file.write(corrected + \"\\n\")  # Unmatched misspelled\n",
        "        i+=1\n",
        "        j+=1\n",
        "    k=1\n",
        "    while k<=2 :\n",
        "        misspelled = str(df.loc[j, \"Misspelled Sentence\"]).strip()\n",
        "        src_file.write(misspelled + \"\\n\")\n",
        "        trg_file.write(\"no data available-written by me\\n\")\n",
        "        j+=1\n",
        "        k+=1\n",
        "\n",
        "print(\"Data successfully appended!\")"
      ],
      "metadata": {
        "colab": {
          "base_uri": "https://localhost:8080/"
        },
        "id": "0yihrVduY-8f",
        "outputId": "f98df458-574c-41e2-b6c4-ae169de09288"
      },
      "execution_count": 4,
      "outputs": [
        {
          "output_type": "stream",
          "name": "stdout",
          "text": [
            "Data successfully appended!\n"
          ]
        }
      ]
    },
    {
      "cell_type": "code",
      "source": [
        "i=98083\n",
        "j=i+4\n",
        "\n",
        "# Open existing files in append mode\n",
        "with open(match_file_path, \"a\", newline=\"\", encoding=\"utf-8\") as match_file, \\\n",
        "     open(unmatch_src_path, \"a\", encoding=\"utf-8\") as src_file, \\\n",
        "     open(unmatch_trg_path, \"a\", encoding=\"utf-8\") as trg_file:\n",
        "\n",
        "    match_writer = csv.writer(match_file)\n",
        "    # While loop for processing\n",
        "    while i < 130414:\n",
        "        misspelled = str(df.loc[j, \"Misspelled Sentence\"]).strip()\n",
        "        corrected = str(df.loc[i, \"Corrected Sentence\"]).strip()\n",
        "        # Get first alphabetic character\n",
        "        first_misspelled = get_first_alpha(misspelled)\n",
        "        first_corrected = get_first_alpha(corrected)\n",
        "\n",
        "        if first_misspelled and first_corrected and first_misspelled == first_corrected:\n",
        "            # If first alphabet matches, store in match.csv\n",
        "            match_writer.writerow([misspelled, corrected])\n",
        "        else:\n",
        "            # If no match, store in unmatch files\n",
        "            src_file.write(misspelled + \"\\n\")  # Unmatched corrected\n",
        "            trg_file.write(corrected + \"\\n\")  # Unmatched misspelled\n",
        "        i+=1\n",
        "        j+=1\n",
        "    k=1\n",
        "    while k<=2 :\n",
        "        misspelled = str(df.loc[j, \"Misspelled Sentence\"]).strip()\n",
        "        src_file.write(misspelled + \"\\n\")\n",
        "        trg_file.write(\"no data available-written by me\\n\")\n",
        "        j+=1\n",
        "        k+=1\n",
        "\n",
        "print(\"Data successfully appended!\")"
      ],
      "metadata": {
        "colab": {
          "base_uri": "https://localhost:8080/"
        },
        "id": "1IcijqNw3Ko4",
        "outputId": "cbda7922-a43d-443d-90fa-d584cecac4aa"
      },
      "execution_count": 6,
      "outputs": [
        {
          "output_type": "stream",
          "name": "stdout",
          "text": [
            "Data successfully appended!\n"
          ]
        }
      ]
    },
    {
      "cell_type": "code",
      "source": [
        "i=130414\n",
        "j=i+6\n",
        "\n",
        "# Open existing files in append mode\n",
        "with open(match_file_path, \"a\", newline=\"\", encoding=\"utf-8\") as match_file, \\\n",
        "     open(unmatch_src_path, \"a\", encoding=\"utf-8\") as src_file, \\\n",
        "     open(unmatch_trg_path, \"a\", encoding=\"utf-8\") as trg_file:\n",
        "\n",
        "    match_writer = csv.writer(match_file)\n",
        "    # While loop for processing\n",
        "    while i < 212018:\n",
        "        misspelled = str(df.loc[j, \"Misspelled Sentence\"]).strip()\n",
        "        corrected = str(df.loc[i, \"Corrected Sentence\"]).strip()\n",
        "        # Get first alphabetic character\n",
        "        first_misspelled = get_first_alpha(misspelled)\n",
        "        first_corrected = get_first_alpha(corrected)\n",
        "\n",
        "        if first_misspelled and first_corrected and first_misspelled == first_corrected:\n",
        "            # If first alphabet matches, store in match.csv\n",
        "            match_writer.writerow([misspelled, corrected])\n",
        "        else:\n",
        "            # If no match, store in unmatch files\n",
        "            src_file.write(misspelled + \"\\n\")  # Unmatched corrected\n",
        "            trg_file.write(corrected + \"\\n\")  # Unmatched misspelled\n",
        "        i+=1\n",
        "        j+=1\n",
        "    misspelled = str(df.loc[j, \"Misspelled Sentence\"]).strip()\n",
        "    src_file.write(misspelled + \"\\n\")\n",
        "    trg_file.write(\"no data available-written by me\\n\")\n",
        "\n",
        "print(\"Data successfully appended!\")"
      ],
      "metadata": {
        "colab": {
          "base_uri": "https://localhost:8080/"
        },
        "id": "YHvyBO-65WbH",
        "outputId": "49c10d07-38f7-4403-bb6d-b2b22da978f6"
      },
      "execution_count": 7,
      "outputs": [
        {
          "output_type": "stream",
          "name": "stdout",
          "text": [
            "Data successfully appended!\n"
          ]
        }
      ]
    },
    {
      "cell_type": "code",
      "source": [
        "i=212018\n",
        "j=i+7\n",
        "\n",
        "# Open existing files in append mode\n",
        "with open(match_file_path, \"a\", newline=\"\", encoding=\"utf-8\") as match_file, \\\n",
        "     open(unmatch_src_path, \"a\", encoding=\"utf-8\") as src_file, \\\n",
        "     open(unmatch_trg_path, \"a\", encoding=\"utf-8\") as trg_file:\n",
        "\n",
        "    match_writer = csv.writer(match_file)\n",
        "    # While loop for processing\n",
        "    while i < 234672:\n",
        "        misspelled = str(df.loc[j, \"Misspelled Sentence\"]).strip()\n",
        "        corrected = str(df.loc[i, \"Corrected Sentence\"]).strip()\n",
        "        # Get first alphabetic character\n",
        "        first_misspelled = get_first_alpha(misspelled)\n",
        "        first_corrected = get_first_alpha(corrected)\n",
        "\n",
        "        if first_misspelled and first_corrected and first_misspelled == first_corrected:\n",
        "            # If first alphabet matches, store in match.csv\n",
        "            match_writer.writerow([misspelled, corrected])\n",
        "        else:\n",
        "            # If no match, store in unmatch files\n",
        "            src_file.write(misspelled + \"\\n\")  # Unmatched corrected\n",
        "            trg_file.write(corrected + \"\\n\")  # Unmatched misspelled\n",
        "        i+=1\n",
        "        j+=1\n",
        "    k=1\n",
        "    while k<=7 :\n",
        "        corrected = df.loc[i, \"Corrected Sentence\"].strip()\n",
        "        trg_file.write(corrected + \"\\n\")\n",
        "        src_file.write(\"no data available-written by me\\n\")\n",
        "        i+=1\n",
        "        k+=1\n",
        "print(\"Data successfully appended!\")"
      ],
      "metadata": {
        "colab": {
          "base_uri": "https://localhost:8080/"
        },
        "id": "ARzFeCmX7GZv",
        "outputId": "48879b04-7253-4e50-df6b-ab625e37e5fb"
      },
      "execution_count": 8,
      "outputs": [
        {
          "output_type": "stream",
          "name": "stdout",
          "text": [
            "Data successfully appended!\n"
          ]
        }
      ]
    }
  ]
}